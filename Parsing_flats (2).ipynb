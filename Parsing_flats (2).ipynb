{
 "cells": [
  {
   "cell_type": "code",
   "execution_count": 3,
   "id": "7ab8cc08-59ee-421f-b7e6-366a0b836b24",
   "metadata": {},
   "outputs": [],
   "source": [
    "# !pip install selenium"
   ]
  },
  {
   "cell_type": "code",
   "execution_count": 1,
   "id": "299e805f-3995-4557-93fe-cb2d3e7e73fc",
   "metadata": {},
   "outputs": [
    {
     "data": {
      "text/plain": [
       "'G:\\\\Мой диск\\\\Курсовая_3ий курс'"
      ]
     },
     "execution_count": 1,
     "metadata": {},
     "output_type": "execute_result"
    }
   ],
   "source": [
    "import os\n",
    "import pandas as pd\n",
    "from selenium import webdriver\n",
    "from selenium.webdriver.common.keys import Keys\n",
    "from selenium.webdriver.common.by import By\n",
    "from bs4 import BeautifulSoup\n",
    "os.chdir(r'G:\\Мой диск\\Курсовая_3ий курс')\n",
    "os.getcwd()"
   ]
  },
  {
   "cell_type": "code",
   "execution_count": 3,
   "id": "1a8e491f-f271-45fc-9d6d-f644901c4248",
   "metadata": {},
   "outputs": [],
   "source": [
    "living_square = []\n",
    "common_square = []\n",
    "floor = []\n",
    "price_per_meter = []\n",
    "price = []\n",
    "for i in range(1, 11):\n",
    "    driver = webdriver.Edge()\n",
    "    driver.get('https://www.cian.ru/cat.php?currency=2&deal_type=sale&engine_version=2&maxprice=45000000&offer_type=flat&p=' + str(i) + '&region=1&room1=1&room2=1&room3=1&room4=1&room5=1&room9=1')\n",
    "    pos = driver.find_elements(By.CSS_SELECTOR, 'a._93444fe79c--media--9P6wN')\n",
    "    for j in pos:\n",
    "        link = j.get_attribute('href')\n",
    "        driver1 = webdriver.Edge()\n",
    "        driver1.get(link)\n",
    "        \n",
    "        info_ = driver1.find_elements(By.CSS_SELECTOR, 'div.a10a3f92e9--text--eplgM')\n",
    "        info = []\n",
    "        for t in info_:\n",
    "            info.append(t.text)\n",
    "\n",
    "        map = {}\n",
    "        for k in info:\n",
    "            loc = k.split('\\n')\n",
    "            map[loc[0]] = loc[1]\n",
    "        \n",
    "        if 'Общая площадь' in map and 'Жилая площадь' in map and 'Этаж' in map: \n",
    "            living_square.append(float(map['Жилая площадь'][:-2].replace(',', '.')))\n",
    "            common_square.append(float(map['Общая площадь'][:-2].replace(',', '.')))\n",
    "            floor.append(int(map['Этаж'][0:2].replace(' ', '')))\n",
    "        else:\n",
    "            continue\n",
    "                                  \n",
    "        p = driver1.find_elements(By.CSS_SELECTOR, 'div.a10a3f92e9--amount--ON6i1')\n",
    "        price.append(int(p[0].text[:-2].replace(' ', '')))\n",
    "\n",
    "        f_p_m = driver1.find_elements(By.CSS_SELECTOR, 'div.a10a3f92e9--item--iWTsg')\n",
    "        price_per_meter.append(int(f_p_m[0].text[13:-5].replace(' ', '')))\n"
   ]
  },
  {
   "cell_type": "code",
   "execution_count": 11,
   "id": "ac06378e-381f-4fa0-9b42-61bed67a1c63",
   "metadata": {},
   "outputs": [
    {
     "name": "stdout",
     "output_type": "stream",
     "text": [
      "Collecting openpyxl\n",
      "  Downloading openpyxl-3.1.2-py2.py3-none-any.whl (249 kB)\n",
      "     ---------------------------------------- 0.0/250.0 kB ? eta -:--:--\n",
      "     - -------------------------------------- 10.2/250.0 kB ? eta -:--:--\n",
      "     ---- -------------------------------- 30.7/250.0 kB 325.1 kB/s eta 0:00:01\n",
      "     ---------- -------------------------- 71.7/250.0 kB 491.5 kB/s eta 0:00:01\n",
      "     ----------------------------------- -- 235.5/250.0 kB 1.2 MB/s eta 0:00:01\n",
      "     -------------------------------------- 250.0/250.0 kB 1.2 MB/s eta 0:00:00\n",
      "Collecting et-xmlfile (from openpyxl)\n",
      "  Downloading et_xmlfile-1.1.0-py3-none-any.whl (4.7 kB)\n",
      "Installing collected packages: et-xmlfile, openpyxl\n",
      "Successfully installed et-xmlfile-1.1.0 openpyxl-3.1.2\n"
     ]
    },
    {
     "name": "stderr",
     "output_type": "stream",
     "text": [
      "\n",
      "[notice] A new release of pip is available: 23.2.1 -> 23.3.2\n",
      "[notice] To update, run: python.exe -m pip install --upgrade pip\n"
     ]
    }
   ],
   "source": [
    "# !pip install openpyxl"
   ]
  },
  {
   "cell_type": "code",
   "execution_count": 13,
   "id": "6cc63a93-d86b-499c-90db-80868628fbb9",
   "metadata": {},
   "outputs": [],
   "source": [
    "import openpyxl\n",
    "dict = {\"Total area\": common_square, \"Living area\": living_square, \"Floor\": floor, \"Price per meter\": price_per_meter, \"Price\": price}\n",
    "Bigtable = pd.DataFrame(dict)\n",
    "Bigtable.to_excel('parsed_flats.xlsx')"
   ]
  },
  {
   "cell_type": "code",
   "execution_count": null,
   "id": "63b65f11-b689-4b14-a101-80edb9bdd26b",
   "metadata": {},
   "outputs": [],
   "source": []
  },
  {
   "cell_type": "code",
   "execution_count": 36,
   "id": "c0be4113-c265-4ac9-8d57-0d2ae253a1a2",
   "metadata": {},
   "outputs": [
    {
     "data": {
      "text/plain": [
       "'https://www.cian.ru/sale/flat/293677259/'"
      ]
     },
     "execution_count": 36,
     "metadata": {},
     "output_type": "execute_result"
    }
   ],
   "source": [
    "link"
   ]
  },
  {
   "cell_type": "code",
   "execution_count": 29,
   "id": "c71e291a-e187-4791-8e79-acb68ffde2da",
   "metadata": {},
   "outputs": [
    {
     "name": "stdout",
     "output_type": "stream",
     "text": [
      "571000\n"
     ]
    }
   ],
   "source": [
    "driver1 = webdriver.Edge()\n",
    "driver1.get(link)\n",
    "info_ = driver1.find_elements(By.CSS_SELECTOR, 'div.a10a3f92e9--item--iWTsg')\n",
    "print(int(info_[0].text[13:-5].replace(' ', '')))\n",
    "# info = []\n",
    "# for t in info_:\n",
    "#     info.append(t.text)"
   ]
  },
  {
   "cell_type": "code",
   "execution_count": null,
   "id": "ff8e6f40-33a5-4b60-8d96-02ec1deaea34",
   "metadata": {},
   "outputs": [],
   "source": [
    "# info = []\n",
    "# for t in info_:\n",
    "#     info.append(t.text)"
   ]
  },
  {
   "cell_type": "code",
   "execution_count": 27,
   "id": "99f56c47-f49e-47e3-806a-dc78383578c7",
   "metadata": {},
   "outputs": [
    {
     "data": {
      "text/plain": [
       "['Цена за метр\\n571 000 ₽/м²',\n",
       " 'Условия сделки\\nдолевое участие (214-ФЗ)',\n",
       " 'Ипотека\\nвозможна']"
      ]
     },
     "execution_count": 27,
     "metadata": {},
     "output_type": "execute_result"
    }
   ],
   "source": [
    "info"
   ]
  },
  {
   "cell_type": "code",
   "execution_count": 21,
   "id": "8252d593-59da-41b0-be07-221e907415fc",
   "metadata": {},
   "outputs": [
    {
     "data": {
      "text/plain": [
       "'19 585 300 ₽'"
      ]
     },
     "execution_count": 21,
     "metadata": {},
     "output_type": "execute_result"
    }
   ],
   "source": [
    "p[0].text"
   ]
  },
  {
   "cell_type": "code",
   "execution_count": null,
   "id": "b1b4989a-1790-4fc1-a083-ef01b5da4500",
   "metadata": {},
   "outputs": [],
   "source": []
  },
  {
   "cell_type": "code",
   "execution_count": 19,
   "id": "6f41a6be-a293-481f-8f48-bcecb38f7be7",
   "metadata": {},
   "outputs": [
    {
     "data": {
      "text/plain": [
       "'https://www.cian.ru/sale/flat/293677259/'"
      ]
     },
     "execution_count": 19,
     "metadata": {},
     "output_type": "execute_result"
    }
   ],
   "source": [
    "link"
   ]
  },
  {
   "cell_type": "code",
   "execution_count": 4,
   "id": "b056427f-0f92-4244-aa54-6a639d76b133",
   "metadata": {},
   "outputs": [
    {
     "data": {
      "text/plain": [
       "161"
      ]
     },
     "execution_count": 4,
     "metadata": {},
     "output_type": "execute_result"
    }
   ],
   "source": [
    "len(living_square)"
   ]
  },
  {
   "cell_type": "code",
   "execution_count": 5,
   "id": "b1ba8f82-91d1-4375-baa4-3b8d0ae2a1bb",
   "metadata": {},
   "outputs": [
    {
     "data": {
      "text/plain": [
       "161"
      ]
     },
     "execution_count": 5,
     "metadata": {},
     "output_type": "execute_result"
    }
   ],
   "source": [
    "len(common_square)"
   ]
  },
  {
   "cell_type": "code",
   "execution_count": 6,
   "id": "4050ef24-a03e-4a2b-95c6-b69be5e444a8",
   "metadata": {},
   "outputs": [
    {
     "data": {
      "text/plain": [
       "161"
      ]
     },
     "execution_count": 6,
     "metadata": {},
     "output_type": "execute_result"
    }
   ],
   "source": [
    "len(floor)"
   ]
  },
  {
   "cell_type": "code",
   "execution_count": 8,
   "id": "8b91971b-90f4-42c6-b007-b6be091ec7f4",
   "metadata": {},
   "outputs": [
    {
     "data": {
      "text/plain": [
       "161"
      ]
     },
     "execution_count": 8,
     "metadata": {},
     "output_type": "execute_result"
    }
   ],
   "source": [
    "len(price_per_meter)"
   ]
  },
  {
   "cell_type": "code",
   "execution_count": 9,
   "id": "5cc1c92b-7f0a-430a-9429-256f99a0cc7a",
   "metadata": {},
   "outputs": [
    {
     "data": {
      "text/plain": [
       "161"
      ]
     },
     "execution_count": 9,
     "metadata": {},
     "output_type": "execute_result"
    }
   ],
   "source": [
    "len(price)"
   ]
  },
  {
   "cell_type": "code",
   "execution_count": null,
   "id": "10b0acb5-3a79-4238-a473-e46e2fe17828",
   "metadata": {},
   "outputs": [],
   "source": []
  }
 ],
 "metadata": {
  "kernelspec": {
   "display_name": "Python 3 (ipykernel)",
   "language": "python",
   "name": "python3"
  },
  "language_info": {
   "codemirror_mode": {
    "name": "ipython",
    "version": 3
   },
   "file_extension": ".py",
   "mimetype": "text/x-python",
   "name": "python",
   "nbconvert_exporter": "python",
   "pygments_lexer": "ipython3",
   "version": "3.11.7"
  }
 },
 "nbformat": 4,
 "nbformat_minor": 5
}
